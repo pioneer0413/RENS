{
 "cells": [
  {
   "cell_type": "code",
   "execution_count": null,
   "id": "eb338ad1-3564-4ced-9e75-060047b853f7",
   "metadata": {},
   "outputs": [],
   "source": [
    "# Experiment no.09 [pilot]"
   ]
  },
  {
   "cell_type": "code",
   "execution_count": 11,
   "id": "90667e48-7405-4799-9faa-483ef0849343",
   "metadata": {},
   "outputs": [],
   "source": [
    "# Imports\n",
    "\n",
    "# PyTorch family\n",
    "import torch\n",
    "import torch.nn as nn\n",
    "from torch.utils.data import DataLoader\n",
    "from torch import optim\n",
    "\n",
    "import torchvision\n",
    "from torchvision import datasets, transforms\n",
    "from torchvision.models import resnet101\n",
    "\n",
    "# SnnTorch family\n",
    "import snntorch as snn\n",
    "from snntorch import spikeplot as splt\n",
    "from snntorch import spikegen\n",
    "\n",
    "# Utilities\n",
    "import matplotlib.pyplot as plt\n",
    "import numpy as np\n",
    "import itertools\n",
    "\n",
    "import sys\n",
    "sys.path.append('/home/hwkang/jupyter/root/utility/')\n",
    "from synthesize import generate_one_noisy_image\n",
    "from preprocess import get_single_subset_by_ratio"
   ]
  },
  {
   "cell_type": "code",
   "execution_count": 7,
   "id": "63de9b78-227f-4b67-a90e-191a6305f356",
   "metadata": {},
   "outputs": [],
   "source": [
    "# Datasets\n",
    "transform = transforms.Compose([transforms.ToTensor()])\n",
    "train_dataset = datasets.CIFAR10(root=path_dataset,\n",
    "                                 train=True,\n",
    "                                 transform=transform,\n",
    "                                 download=False)\n",
    "test_dataset = datasets.CIFAR10(root=path_dataset,\n",
    "                                 train=False,\n",
    "                                 transform=transform,\n",
    "                                 download=False)"
   ]
  },
  {
   "cell_type": "code",
   "execution_count": 8,
   "id": "62926179-164f-4188-81bf-05c9579100f3",
   "metadata": {},
   "outputs": [],
   "source": [
    "# 빠른 실행을 위해 데이터셋 크기 축소\n",
    "train_dataset = get_single_subset_by_ratio(train_dataset, 0.1)\n",
    "test_dataset = get_single_subset_by_ratio(test_dataset, 0.1)"
   ]
  },
  {
   "cell_type": "code",
   "execution_count": 12,
   "id": "d190e875-c6f1-40f7-a08c-e3fc55425b7b",
   "metadata": {},
   "outputs": [],
   "source": [
    "# DataLoaders\n",
    "train_loader = DataLoader(train_dataset,\n",
    "                          batch_size=64,\n",
    "                          shuffle=True)\n",
    "test_loader = DataLoader(test_dataset,\n",
    "                         batch_size=64,\n",
    "                         shuffle=False)"
   ]
  },
  {
   "cell_type": "code",
   "execution_count": null,
   "id": "f577dc20-0b8b-4793-a7f9-11201e977137",
   "metadata": {},
   "outputs": [],
   "source": [
    "# Network"
   ]
  },
  {
   "cell_type": "code",
   "execution_count": 13,
   "id": "51f1f1d1-ecc8-423b-81e0-e38078a99b5c",
   "metadata": {},
   "outputs": [],
   "source": [
    "device = torch.device('cuda' if torch.cuda.is_available() else 'cpu')"
   ]
  },
  {
   "cell_type": "code",
   "execution_count": 17,
   "id": "262e6b94-8918-441e-8825-a91355e61f8b",
   "metadata": {},
   "outputs": [],
   "source": [
    "# ResNet for classification\n",
    "model_resnet = resnet101(weights=None, num_classes=10)\n",
    "model_resnet = model_resnet.to(device)"
   ]
  },
  {
   "cell_type": "code",
   "execution_count": 19,
   "id": "8f4ad995-b8d6-44db-b2e2-187b34466fd6",
   "metadata": {},
   "outputs": [],
   "source": [
    "# Hyperparameters\n",
    "criterion = nn.CrossEntropyLoss()\n",
    "optimizer = optim.SGD(model_resnet.parameters(), lr=0.001, momentum=0.9)\n",
    "num_epochs = 10"
   ]
  },
  {
   "cell_type": "code",
   "execution_count": 21,
   "id": "c41f5507-da18-4f53-8472-fabeb549b00a",
   "metadata": {},
   "outputs": [
    {
     "name": "stdout",
     "output_type": "stream",
     "text": [
      "Epoch [1/10], Loss: 2.3639\n",
      "Epoch [2/10], Loss: 2.3158\n",
      "Epoch [3/10], Loss: 2.1680\n",
      "Epoch [4/10], Loss: 2.1054\n",
      "Epoch [5/10], Loss: 2.0988\n",
      "Epoch [6/10], Loss: 2.0578\n",
      "Epoch [7/10], Loss: 1.9266\n",
      "Epoch [8/10], Loss: 1.8456\n",
      "Epoch [9/10], Loss: 1.7811\n",
      "Epoch [10/10], Loss: 1.7289\n"
     ]
    }
   ],
   "source": [
    "# Training Loop\n",
    "for epoch in range(num_epochs):\n",
    "    running_loss = 0.0\n",
    "    for inputs, labels in train_loader:\n",
    "        inputs, labels = inputs.to(device), labels.to(device)\n",
    "        \n",
    "        optimizer.zero_grad()\n",
    "        \n",
    "        outputs = model_resnet(inputs)\n",
    "        loss = criterion(outputs, labels)\n",
    "        loss.backward()\n",
    "        optimizer.step()\n",
    "        \n",
    "        running_loss += loss.item()\n",
    "    \n",
    "    print(f\"Epoch [{epoch + 1}/{num_epochs}], Loss: {running_loss / len(train_loader):.4f}\")"
   ]
  },
  {
   "cell_type": "code",
   "execution_count": 22,
   "id": "7dfea678-70da-421b-89e6-a61b61bb0c72",
   "metadata": {},
   "outputs": [
    {
     "name": "stdout",
     "output_type": "stream",
     "text": [
      "Accuracy on test set: 33.50%\n"
     ]
    }
   ],
   "source": [
    "# Evaluation\n",
    "# 테스트 성능 평가\n",
    "model_resnet.eval()\n",
    "correct = 0\n",
    "total = 0\n",
    "with torch.no_grad():\n",
    "    for inputs, labels in test_loader:\n",
    "        inputs, labels = inputs.to(device), labels.to(device)\n",
    "        outputs = model_resnet(inputs)\n",
    "        _, predicted = torch.max(outputs, 1)\n",
    "        total += labels.size(0)\n",
    "        correct += (predicted == labels).sum().item()\n",
    "\n",
    "print(f\"Accuracy on test set: {100 * correct / total:.2f}%\")"
   ]
  },
  {
   "cell_type": "code",
   "execution_count": null,
   "id": "adaa214b-9a2e-41d7-9e78-24185324275a",
   "metadata": {},
   "outputs": [],
   "source": [
    "# SNN-CNN for classification"
   ]
  }
 ],
 "metadata": {
  "kernelspec": {
   "display_name": "Python 3 (ipykernel)",
   "language": "python",
   "name": "python3"
  },
  "language_info": {
   "codemirror_mode": {
    "name": "ipython",
    "version": 3
   },
   "file_extension": ".py",
   "mimetype": "text/x-python",
   "name": "python",
   "nbconvert_exporter": "python",
   "pygments_lexer": "ipython3",
   "version": "3.10.12"
  }
 },
 "nbformat": 4,
 "nbformat_minor": 5
}
