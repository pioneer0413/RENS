{
 "cells": [
  {
   "cell_type": "code",
   "execution_count": 52,
   "id": "094af1f3-3302-4baf-8eef-8509ce6f8712",
   "metadata": {},
   "outputs": [
    {
     "data": {
      "image/png": "[encoded data removed]",
      "text/plain": [
       "<Figure size 300x200 with 1 Axes>"
      ]
     },
     "metadata": {},
     "output_type": "display_data"
    }
   ],
   "source": [
    "import torch\n",
    "import matplotlib.pyplot as plt\n",
    "\n",
    "# Step 1: Normalize the input vector to the range [0, 1]\n",
    "input_vector = torch.tensor([10, 100, 150, 255], dtype=torch.float32)\n",
    "normalized_vector = input_vector / 255\n",
    "\n",
    "# Step 2: Generate spike trains using rate encoding\n",
    "def rate_encoding(input_signal, num_steps):\n",
    "    spike_train = torch.bernoulli(input_signal.repeat(num_steps, 1))\n",
    "    return spike_train\n",
    "\n",
    "def latency_coding(input_signal, num_steps):\n",
    "    \"\"\"\n",
    "    Encodes an input signal into a spike train using latency coding.\n",
    "\n",
    "    Parameters:\n",
    "    - input_signal: A tensor representing the input values (range 0-1).\n",
    "    - num_steps: Number of time steps over which to encode the spikes.\n",
    "\n",
    "    Returns:\n",
    "    - spike_train: A binary tensor representing the spike train.\n",
    "    \"\"\"\n",
    "    spike_train = torch.zeros(num_steps, len(input_signal))\n",
    "    \n",
    "    for i, val in enumerate(input_signal):\n",
    "        # The higher the input value, the earlier the spike\n",
    "        spike_time = int((1 - val) * (num_steps - 1))\n",
    "        spike_train[spike_time, i] = 1  # Spike occurs at calculated time\n",
    "    \n",
    "    return spike_train\n",
    "\n",
    "num_steps = 10  # Number of time steps for the spike train\n",
    "spike_train = rate_encoding(normalized_vector, num_steps)\n",
    "#spike_train = latency_coding(normalized_vector, num_steps)\n",
    "\n",
    "# Step 3: Visualize the spike trains\n",
    "def plot_spike_train(spike_train, input_vector):\n",
    "    plt.figure(figsize=(3, 2))\n",
    "    for neuron_idx, spikes in enumerate(spike_train.T):\n",
    "        spike_times = torch.where(spikes == 1)[0]\n",
    "        plt.scatter(spike_times+1, [neuron_idx] * len(spike_times), marker='|', s=300, label=f'Input: {int(input_vector[neuron_idx].item())}')\n",
    "\n",
    "    plt.xticks(range(1, num_steps+1))\n",
    "    plt.yticks(range(len(input_vector)), [f'{int(v)}' for v in input_vector])\n",
    "    plt.xlabel('Time Steps')\n",
    "    plt.ylabel('Pixel Value')\n",
    "    #plt.title('Spike Train Visualization using Rate Encoding')\n",
    "    #plt.legend()\n",
    "    plt.tight_layout()\n",
    "    plt.savefig('Rate_Encoding_Example.png')\n",
    "    plt.show()\n",
    "\n",
    "# Plot the spike train\n",
    "plot_spike_train(spike_train, input_vector)"
   ]
  }
 ],
 "metadata": {
  "kernelspec": {
   "display_name": "Python 3 (ipykernel)",
   "language": "python",
   "name": "python3"
  },
  "language_info": {
   "codemirror_mode": {
    "name": "ipython",
    "version": 3
   },
   "file_extension": ".py",
   "mimetype": "text/x-python",
   "name": "python",
   "nbconvert_exporter": "python",
   "pygments_lexer": "ipython3",
   "version": "3.10.12"
  }
 },
 "nbformat": 4,
 "nbformat_minor": 5
}
