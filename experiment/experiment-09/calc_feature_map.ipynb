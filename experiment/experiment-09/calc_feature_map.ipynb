{
 "cells": [
  {
   "cell_type": "code",
   "execution_count": 1,
   "id": "b4fba490-8377-4b0b-b41e-b07de93c6d68",
   "metadata": {},
   "outputs": [],
   "source": [
    "def conv2d_output_size(input_size, kernel_size, stride=1, padding=0, dilation=1):\n",
    "    # 계산\n",
    "    output_size = ((input_size + 2 * padding - dilation * (kernel_size - 1) - 1) // stride) + 1\n",
    "    return output_size\n",
    "\n",
    "def conv2d_output_shape(input_shape, kernel_size, stride=1, padding=0, dilation=1):\n",
    "    input_height, input_width = input_shape\n",
    "    \n",
    "    output_height = conv2d_output_size(input_height, kernel_size, stride, padding, dilation)\n",
    "    output_width = conv2d_output_size(input_width, kernel_size, stride, padding, dilation)\n",
    "    \n",
    "    return (output_height, output_width)"
   ]
  },
  {
   "cell_type": "code",
   "execution_count": 2,
   "id": "71c0804c-0b82-4447-b302-0ec18aa42161",
   "metadata": {},
   "outputs": [],
   "source": [
    "w1, h1 = conv2d_output_shape((34, 34), 5)\n",
    "w2, h2 = conv2d_output_shape((w1/2, h1/2), 5)"
   ]
  },
  {
   "cell_type": "code",
   "execution_count": 3,
   "id": "c387a042-7968-401c-a41b-1cb05fc0f9bf",
   "metadata": {},
   "outputs": [
    {
     "name": "stdout",
     "output_type": "stream",
     "text": [
      "30 30\n"
     ]
    }
   ],
   "source": [
    "print(w1, h1)"
   ]
  },
  {
   "cell_type": "code",
   "execution_count": 4,
   "id": "26b32a51-fa29-4b9b-8b54-c30e764516b4",
   "metadata": {},
   "outputs": [
    {
     "name": "stdout",
     "output_type": "stream",
     "text": [
      "11.0 11.0\n"
     ]
    }
   ],
   "source": [
    "print(w2, h2)"
   ]
  },
  {
   "cell_type": "code",
   "execution_count": 5,
   "id": "f87d358a-c93b-4dfc-bf92-21dbd44d7899",
   "metadata": {},
   "outputs": [
    {
     "name": "stdout",
     "output_type": "stream",
     "text": [
      "5.5 5.5\n"
     ]
    }
   ],
   "source": [
    "print(w2/2, h2/2)"
   ]
  },
  {
   "cell_type": "code",
   "execution_count": 6,
   "id": "3767684e-c47c-42a0-a775-0411513a3b17",
   "metadata": {},
   "outputs": [
    {
     "data": {
      "text/plain": [
       "1600"
      ]
     },
     "execution_count": 6,
     "metadata": {},
     "output_type": "execute_result"
    }
   ],
   "source": [
    "64*25"
   ]
  },
  {
   "cell_type": "code",
   "execution_count": null,
   "id": "9bda9264-e881-4390-9181-62deafbf6d6a",
   "metadata": {},
   "outputs": [],
   "source": []
  }
 ],
 "metadata": {
  "kernelspec": {
   "display_name": "Python 3 (ipykernel)",
   "language": "python",
   "name": "python3"
  }
 },
 "nbformat": 4,
 "nbformat_minor": 5
}
