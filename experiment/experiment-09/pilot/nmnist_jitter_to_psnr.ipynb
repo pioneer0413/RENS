{
 "cells": [
  {
   "cell_type": "code",
   "execution_count": 1,
   "metadata": {},
   "outputs": [],
   "source": [
    "import torch\n",
    "torch.manual_seed(0)\n",
    "import tonic\n",
    "import tonic.transforms\n",
    "import torchvision"
   ]
  },
  {
   "cell_type": "code",
   "execution_count": 2,
   "metadata": {},
   "outputs": [],
   "source": [
    "PATH = 'experiment/experiment-09'\n",
    "import sys\n",
    "sys.path.append(PATH)"
   ]
  },
  {
   "cell_type": "code",
   "execution_count": 3,
   "metadata": {},
   "outputs": [],
   "source": [
    "n = 4000\n",
    "time_jitter_std = 10000"
   ]
  },
  {
   "cell_type": "code",
   "execution_count": 4,
   "metadata": {},
   "outputs": [],
   "source": [
    "sensor_size = tonic.datasets.NMNIST.sensor_size\n",
    "\n",
    "jitter_transform = tonic.transforms.Compose([\n",
    "            tonic.transforms.Denoise(filter_time=10000),\n",
    "            tonic.transforms.TimeJitter(std=time_jitter_std, clip_negative=True),\n",
    "            tonic.transforms.UniformNoise(sensor_size=sensor_size, n=n),\n",
    "            tonic.transforms.ToFrame(sensor_size=sensor_size, n_time_bins=30),\n",
    "            torch.from_numpy,\n",
    "            torchvision.transforms.Lambda(lambda x: x.to(torch.float32))\n",
    "        ])\n",
    "original_transform = tonic.transforms.Compose([\n",
    "            tonic.transforms.Denoise(filter_time=10000),\n",
    "            tonic.transforms.ToFrame(sensor_size=sensor_size, n_time_bins=30),\n",
    "            torch.from_numpy,\n",
    "            torchvision.transforms.Lambda(lambda x: x.to(torch.float32))\n",
    "        ])"
   ]
  },
  {
   "cell_type": "code",
   "execution_count": 5,
   "metadata": {},
   "outputs": [],
   "source": [
    "jitter_dataset = tonic.datasets.NMNIST(save_to='/DATA/hwkang', train=False, transform=jitter_transform)\n",
    "original_dataset = tonic.datasets.NMNIST(save_to='/DATA/hwkang', train=False, transform=original_transform)"
   ]
  },
  {
   "cell_type": "code",
   "execution_count": 6,
   "metadata": {},
   "outputs": [],
   "source": [
    "from torch.utils.data import DataLoader\n",
    "import multiprocessing\n",
    "\n",
    "jitter_loader = DataLoader(jitter_dataset, batch_size=100, num_workers=multiprocessing.cpu_count() // 2, shuffle=False)\n",
    "original_loader = DataLoader(original_dataset, batch_size=100, num_workers=multiprocessing.cpu_count() // 2, shuffle=False)"
   ]
  },
  {
   "cell_type": "code",
   "execution_count": 7,
   "metadata": {},
   "outputs": [],
   "source": [
    "from helper import calculate_psnr\n",
    "\n",
    "jitter_x, _ = next(iter(jitter_loader))\n",
    "original_x, _ = next(iter(original_loader))"
   ]
  },
  {
   "cell_type": "code",
   "execution_count": 8,
   "metadata": {},
   "outputs": [],
   "source": [
    "list_psnr = []\n",
    "for x, y in zip(jitter_x, original_x):\n",
    "    psnr = calculate_psnr(x, y)\n",
    "    list_psnr.append(psnr)"
   ]
  },
  {
   "cell_type": "code",
   "execution_count": null,
   "metadata": {},
   "outputs": [],
   "source": [
    "import math\n",
    "filtered_psnr = [x for x in list_psnr if not math.isnan(x) and not math.isinf(x)]\n",
    "average_psnr = sum(filtered_psnr)/len(filtered_psnr)\n",
    "print(average_psnr)"
   ]
  },
  {
   "cell_type": "code",
   "execution_count": 10,
   "metadata": {},
   "outputs": [],
   "source": [
    "jitter_frames = jitter_dataset[0][0]\n",
    "original_frames = original_dataset[0][0]"
   ]
  },
  {
   "cell_type": "code",
   "execution_count": null,
   "metadata": {},
   "outputs": [],
   "source": [
    "import matplotlib.pyplot as plt\n",
    "from IPython.display import HTML\n",
    "\n",
    "ani = tonic.utils.plot_animation(jitter_frames)\n",
    "HTML(ani.to_jshtml())"
   ]
  },
  {
   "cell_type": "code",
   "execution_count": null,
   "metadata": {},
   "outputs": [],
   "source": [
    "ani = tonic.utils.plot_animation(original_frames)\n",
    "HTML(ani.to_jshtml())"
   ]
  }
 ],
 "metadata": {
  "kernelspec": {
   "display_name": "Python 3 (ipykernel)",
   "language": "python",
   "name": "python3"
  }
 },
 "nbformat": 4,
 "nbformat_minor": 2
}
