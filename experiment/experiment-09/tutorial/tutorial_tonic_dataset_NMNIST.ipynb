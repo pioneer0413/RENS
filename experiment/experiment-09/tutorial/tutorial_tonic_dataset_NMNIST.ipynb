{
 "cells": [
  {
   "cell_type": "code",
   "execution_count": 1,
   "metadata": {},
   "outputs": [
    {
     "name": "stderr",
     "output_type": "stream",
     "text": [
      "/home/hwkang/jupyter/venv/lib/python3.10/site-packages/tqdm/auto.py:21: TqdmWarning: IProgress not found. Please update jupyter and ipywidgets. See https://ipywidgets.readthedocs.io/en/stable/user_install.html\n",
      "  from .autonotebook import tqdm as notebook_tqdm\n"
     ]
    }
   ],
   "source": [
    "import tonic"
   ]
  },
  {
   "cell_type": "code",
   "execution_count": 2,
   "metadata": {},
   "outputs": [],
   "source": [
    "dataset = tonic.datasets.NMNIST(save_to='/DATA/hwkang', train=False)"
   ]
  },
  {
   "cell_type": "code",
   "execution_count": 3,
   "metadata": {},
   "outputs": [],
   "source": [
    "events, targets = dataset[1000]"
   ]
  },
  {
   "cell_type": "code",
   "execution_count": 17,
   "metadata": {},
   "outputs": [
    {
     "data": {
      "text/plain": [
       "2351"
      ]
     },
     "execution_count": 17,
     "metadata": {},
     "output_type": "execute_result"
    }
   ],
   "source": [
    "len(events)"
   ]
  },
  {
   "cell_type": "code",
   "execution_count": 19,
   "metadata": {},
   "outputs": [
    {
     "data": {
      "text/plain": [
       "(5, 14, 3380, 1)"
      ]
     },
     "execution_count": 19,
     "metadata": {},
     "output_type": "execute_result"
    }
   ],
   "source": [
    "events[0]"
   ]
  },
  {
   "cell_type": "code",
   "execution_count": 4,
   "metadata": {},
   "outputs": [],
   "source": [
    "import tonic.transforms as transforms\n",
    "\n",
    "sensor_size = tonic.datasets.NMNIST.sensor_size\n",
    "frame_transform = transforms.ToFrame(sensor_size=sensor_size, n_time_bins=3)\n",
    "\n",
    "frames = frame_transform(events)"
   ]
  },
  {
   "cell_type": "code",
   "execution_count": 5,
   "metadata": {},
   "outputs": [
    {
     "data": {
      "text/plain": [
       "numpy.ndarray"
      ]
     },
     "execution_count": 5,
     "metadata": {},
     "output_type": "execute_result"
    }
   ],
   "source": [
    "type(frames)"
   ]
  },
  {
   "cell_type": "code",
   "execution_count": 9,
   "metadata": {},
   "outputs": [],
   "source": [
    "frame = frames[0]"
   ]
  },
  {
   "cell_type": "code",
   "execution_count": 12,
   "metadata": {},
   "outputs": [
    {
     "name": "stdout",
     "output_type": "stream",
     "text": [
      "7 0\n"
     ]
    }
   ],
   "source": [
    "print(frame.max(), frame.min())"
   ]
  },
  {
   "cell_type": "code",
   "execution_count": 14,
   "metadata": {},
   "outputs": [],
   "source": [
    "frame_p, frame_n = frame[0:2]"
   ]
  },
  {
   "cell_type": "code",
   "execution_count": 16,
   "metadata": {},
   "outputs": [
    {
     "name": "stdout",
     "output_type": "stream",
     "text": [
      "7 0\n",
      "5 0\n"
     ]
    }
   ],
   "source": [
    "print(frame_p.max(), frame_p.min())\n",
    "print(frame_n.max(), frame_n.min())"
   ]
  },
  {
   "cell_type": "code",
   "execution_count": null,
   "metadata": {},
   "outputs": [],
   "source": [
    "%matplotlib inline\n",
    "import matplotlib.pyplot as plt\n",
    "\n",
    "# frame[1] = + polarity\n",
    "# frame[0] = - polarity\n",
    "def plot_frames(frames):\n",
    "    fig, axes = plt.subplots(1, len(frames))\n",
    "    for axis, frame in zip(axes, frames):\n",
    "        axis.imshow(frame[1] - frame[0])\n",
    "        axis.axis(\"off\")\n",
    "    plt.tight_layout()\n",
    "\n",
    "\n",
    "plot_frames(frames)"
   ]
  },
  {
   "cell_type": "code",
   "execution_count": null,
   "metadata": {},
   "outputs": [],
   "source": [
    "denoise_transform = tonic.transforms.Denoise(filter_time=10000)\n",
    "events_denoised = denoise_transform(events)\n",
    "frames_denoised = frame_transform(events_denoised)\n",
    "\n",
    "plot_frames(frames_denoised)"
   ]
  },
  {
   "cell_type": "code",
   "execution_count": null,
   "metadata": {},
   "outputs": [],
   "source": [
    "transform = transforms.Compose([denoise_transform, frame_transform])\n",
    "\n",
    "dataset = tonic.datasets.NMNIST(\n",
    "    save_to=\"/DATA/hwkang\", train=False, transform=transform\n",
    ")"
   ]
  },
  {
   "cell_type": "code",
   "execution_count": null,
   "metadata": {},
   "outputs": [],
   "source": [
    "import torch\n",
    "\n",
    "torch.manual_seed(1234)\n",
    "\n",
    "dataloader = torch.utils.data.DataLoader(dataset, shuffle=True)\n",
    "frames, target = next(iter(dataloader))\n",
    "\n",
    "plot_frames(frames.squeeze())"
   ]
  },
  {
   "cell_type": "markdown",
   "metadata": {},
   "source": [
    "\\[Unsolved\\]\n",
    "`dataset[0]`에서 가져온 `frame`은 numpy.ndarray 타입인데, `dataloader`에서 가져온 `frames`는 왜 torch.Tensor 타입인지 의문"
   ]
  }
 ],
 "metadata": {
  "kernelspec": {
   "display_name": "Python 3 (ipykernel)",
   "language": "python",
   "name": "python3"
  }
 },
 "nbformat": 4,
 "nbformat_minor": 2
}
