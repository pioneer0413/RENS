{
 "cells": [
  {
   "cell_type": "code",
   "execution_count": 1,
   "id": "78d460dd-e816-4c76-a1ae-4a4bfdb161fe",
   "metadata": {},
   "outputs": [],
   "source": [
    "import pyRAPL\n",
    "import torch\n",
    "from snntorch import spikegen\n",
    "import snntorch.spikeplot as splt\n",
    "import matplotlib.pyplot as plt"
   ]
  },
  {
   "cell_type": "code",
   "execution_count": 2,
   "id": "d772aceb-ed6e-4549-861c-9179564bb622",
   "metadata": {},
   "outputs": [],
   "source": [
    "pyRAPL.setup()\n",
    "csv_output_delta = pyRAPL.outputs.CSVOutput('delta.csv')\n",
    "csv_output_ttfs = pyRAPL.outputs.CSVOutput('ttfs.csv')\n",
    "csv_output_stime = pyRAPL.outputs.CSVOutput('stime.csv')\n",
    "csv_output_srate = pyRAPL.outputs.CSVOutput('srate.csv')\n",
    "meter_delta = pyRAPL.Measurement(label='delta', output=csv_output_delta)\n",
    "meter_ttfs = pyRAPL.Measurement(label='ttfs', output=csv_output_ttfs)\n",
    "meter_stime = pyRAPL.Measurement(label='stime', output=csv_output_stime)\n",
    "meter_srate = pyRAPL.Measurement(label='srate', output=csv_output_srate)"
   ]
  },
  {
   "cell_type": "code",
   "execution_count": 3,
   "id": "646ea7c9-bdc4-4cd7-8b5c-ffe04ff4710c",
   "metadata": {},
   "outputs": [],
   "source": [
    "input_size = 640 * 480"
   ]
  },
  {
   "cell_type": "code",
   "execution_count": 4,
   "id": "798478f5-5370-4861-9eb0-6ce20ff677d0",
   "metadata": {},
   "outputs": [],
   "source": [
    "num_step = 50"
   ]
  },
  {
   "cell_type": "code",
   "execution_count": 5,
   "id": "391890d4-5aca-4f6b-b78e-0b42fb1f9be1",
   "metadata": {},
   "outputs": [
    {
     "name": "stdout",
     "output_type": "stream",
     "text": [
      "Progress: 100/1000\n",
      "Progress: 200/1000\n",
      "Progress: 300/1000\n",
      "Progress: 400/1000\n",
      "Progress: 500/1000\n",
      "Progress: 600/1000\n",
      "Progress: 700/1000\n",
      "Progress: 800/1000\n",
      "Progress: 900/1000\n",
      "Progress: 1000/1000\n",
      "DONE\n"
     ]
    }
   ],
   "source": [
    "x_in_delta = torch.randn(num_step, input_size)\n",
    "\n",
    "x_in_ttfs = torch.randn(input_size)\n",
    "max_val = x_in_ttfs.max()\n",
    "min_val = x_in_ttfs.min()\n",
    "x_in_ttfs = ( x_in_ttfs - min_val ) / ( max_val - min_val )\n",
    "\n",
    "x_in_stime = torch.randn(input_size)\n",
    "\n",
    "x_in_srate = torch.randn(input_size)\n",
    "\n",
    "for i in range(1000):\n",
    "    meter_delta.begin()\n",
    "    x_out_delta = spikegen.delta(x_in_delta, threshold=1)\n",
    "    meter_delta.end()\n",
    "    meter_delta.export(csv_output_delta)\n",
    "    csv_output_delta.save()\n",
    "\n",
    "    meter_ttfs.begin()\n",
    "    x_out_ttfs = spikegen.latency(x_in_ttfs, num_steps=num_step)\n",
    "    meter_ttfs.end()\n",
    "    meter_ttfs.export(csv_output_ttfs)\n",
    "    csv_output_ttfs.save()\n",
    "\n",
    "    meter_stime.begin()\n",
    "    x_out_stime = spikegen.latency_code(x_in_stime, num_steps=num_step)\n",
    "    meter_stime.end()\n",
    "    meter_stime.export(csv_output_stime)\n",
    "    csv_output_stime.save()\n",
    "\n",
    "    meter_srate.begin()\n",
    "    x_out_srate = spikegen.rate(x_in_srate, num_steps=num_step)\n",
    "    meter_srate.end()\n",
    "    meter_srate.export(csv_output_srate)\n",
    "    csv_output_srate.save()\n",
    "\n",
    "    if( (i+1) % 100 == 0 ):\n",
    "        print(f'Progress: {i+1}/{1000}')\n",
    "\n",
    "print(\"DONE\")"
   ]
  },
  {
   "cell_type": "code",
   "execution_count": 6,
   "id": "f230ba46-a5d1-42fd-9c44-67316aeb156a",
   "metadata": {},
   "outputs": [
    {
     "name": "stdout",
     "output_type": "stream",
     "text": [
      "Result(label='delta', timestamp=1722420186.361782, duration=34650.938, pkg=[4947375.0], dram=[800037.0])\n",
      "Result(label='ttfs', timestamp=1722420186.396623, duration=37407.678, pkg=[4906116.0], dram=[814297.0])\n",
      "Result(label='stime', timestamp=1722420186.4342606, duration=453.396, pkg=[0.0], dram=[0.0])\n",
      "Result(label='srate', timestamp=1722420186.4348433, duration=207840.427, pkg=[23186159.0], dram=[3505520.0])\n"
     ]
    }
   ],
   "source": [
    "print(meter_delta.result)\n",
    "print(meter_ttfs.result)\n",
    "print(meter_stime.result)\n",
    "print(meter_srate.result)"
   ]
  }
 ],
 "metadata": {
  "kernelspec": {
   "display_name": "Python 3 (ipykernel)",
   "language": "python",
   "name": "python3"
  },
  "language_info": {
   "codemirror_mode": {
    "name": "ipython",
    "version": 3
   },
   "file_extension": ".py",
   "mimetype": "text/x-python",
   "name": "python",
   "nbconvert_exporter": "python",
   "pygments_lexer": "ipython3",
   "version": "3.10.12"
  }
 },
 "nbformat": 4,
 "nbformat_minor": 5
}
