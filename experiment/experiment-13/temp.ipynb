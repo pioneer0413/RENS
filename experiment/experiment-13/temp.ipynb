{
 "cells": [
  {
   "cell_type": "code",
   "execution_count": 1,
   "id": "31d496cc-2a5c-4c31-bde7-a673ceb042a3",
   "metadata": {},
   "outputs": [
    {
     "name": "stdout",
     "output_type": "stream",
     "text": [
      "[{'id': 1, 'value': 'A'}, {'id': 1, 'value': 'C'}, {'id': 1, 'value': 'E'}]\n"
     ]
    }
   ],
   "source": [
    "# 예제 리스트\n",
    "dict_list = [\n",
    "    {'id': 1, 'value': 'A'},\n",
    "    {'id': 2, 'value': 'B'},\n",
    "    {'id': 1, 'value': 'C'},\n",
    "    {'id': 3, 'value': 'D'},\n",
    "    {'id': 1, 'value': 'E'}\n",
    "]\n",
    "\n",
    "# 특정 키의 값\n",
    "key = 'id'\n",
    "value_to_find = 1\n",
    "\n",
    "# 해당 키의 값을 가진 모든 딕셔너리 추출\n",
    "filtered_dicts = [d for d in dict_list if d.get(key) == value_to_find]\n",
    "\n",
    "# 결과 출력\n",
    "print(filtered_dicts)\n"
   ]
  },
  {
   "cell_type": "code",
   "execution_count": 2,
   "id": "53235776-e867-48f7-ba71-22af23d449aa",
   "metadata": {},
   "outputs": [
    {
     "name": "stdout",
     "output_type": "stream",
     "text": [
      "[1, 2, 3]\n"
     ]
    }
   ],
   "source": [
    "# 예제 results 리스트\n",
    "results = [\n",
    "    {'image_id': 1, 'category_id': 2, 'bbox': [10, 20, 30, 40], 'score': 0.95},\n",
    "    {'image_id': 2, 'category_id': 3, 'bbox': [15, 25, 35, 45], 'score': 0.85},\n",
    "    {'image_id': 1, 'category_id': 4, 'bbox': [12, 22, 32, 42], 'score': 0.90},\n",
    "    {'image_id': 3, 'category_id': 2, 'bbox': [14, 24, 34, 44], 'score': 0.80},\n",
    "    {'image_id': 2, 'category_id': 3, 'bbox': [16, 26, 36, 46], 'score': 0.75}\n",
    "]\n",
    "\n",
    "# 중복되지 않는 image_id 값을 추출\n",
    "unique_image_ids = list({item['image_id'] for item in results})\n",
    "\n",
    "# 결과 출력\n",
    "print(unique_image_ids)\n"
   ]
  },
  {
   "cell_type": "code",
   "execution_count": 15,
   "id": "7548e6bc-bbf1-4a67-acd2-bd1955c4c499",
   "metadata": {},
   "outputs": [
    {
     "name": "stdout",
     "output_type": "stream",
     "text": [
      "[(199.84, 200.46, 77.71, 70.88), (234.22, 317.11, 149.39, 38.55), (239.48, 347.87, 160.0, 57.81), (296.65, 388.33, 1.03, 0.0), (251.87, 333.42, 125.94, 22.71), (337.02, 244.46, 66.47, 66.75), (213.81, 192.39, 53.94, 70.28), (324.66, 247.92, 250.87, 181.02), (260.18, 252.76, 67.91, 53.3), (61.87, 276.25, 296.42, 103.18)]\n"
     ]
    }
   ],
   "source": [
    "import json\n",
    "\n",
    "# COCO 어노테이션 파일 경로\n",
    "annotation_file = '/home/hwkang/jupyter/root/dataset/COCO2017/annotations/instances_train2017.json'\n",
    "\n",
    "# 어노테이션 파일 읽기\n",
    "with open(annotation_file, 'r') as f:\n",
    "    coco_data = json.load(f)\n",
    "\n",
    "# 모든 bbox의 너비와 높이를 저장할 리스트\n",
    "bbox_dimensions = []\n",
    "\n",
    "# 어노테이션에서 bbox 추출\n",
    "for annotation in coco_data['annotations']:\n",
    "    bbox = annotation['bbox']  # [x, y, width, height]\n",
    "    x_min = bbox[0]\n",
    "    y_min = bbox[1]\n",
    "    width = bbox[2]\n",
    "    height = bbox[3]\n",
    "    bbox_dimensions.append((x_min, y_min, width, height))\n",
    "\n",
    "# 결과 확인\n",
    "#print(bbox_dimensions[:10])  # 첫 10개 bbox의 너비와 높이 출력"
   ]
  },
  {
   "cell_type": "code",
   "execution_count": 17,
   "id": "eb11d986-4e1b-40b1-afaa-2c4e86546208",
   "metadata": {},
   "outputs": [
    {
     "name": "stdout",
     "output_type": "stream",
     "text": [
      "[(287.89, 241.35, 0.23, 3.64), (345.23, 264.38, 0.57, 2.5), (327.64, 145.74, 0.68, 30.3), (197.15, 228.72, 0.68, 4.79), (200.14, 292.98, 0.7, 3.02), (473.24, 195.09, 0.71, 4.64), (613.09, 26.32, 0.72, 5.55), (262.17, 57.18, 0.83, 6.41), (224.02, 106.97, 0.85, 2.89), (271.95, 30.15, 0.86, 5.71)]\n"
     ]
    }
   ],
   "source": [
    "# 너비를 기준으로 오름차순 정렬\n",
    "sorted_bbox_dimensions = sorted(bbox_dimensions, key=lambda x: x[2])\n",
    "\n",
    "# 상위 10개의 원소 출력\n",
    "top_10_sorted = sorted_bbox_dimensions[:4]\n",
    "print(top_10_sorted)"
   ]
  },
  {
   "cell_type": "code",
   "execution_count": 18,
   "id": "0fdcbd9c-21eb-49b8-a1a4-fc1caaa40e1b",
   "metadata": {},
   "outputs": [
    {
     "name": "stdout",
     "output_type": "stream",
     "text": [
      "[(296.65, 388.33, 1.03, 0.0), (9.98, 188.56, 5.54, 0.0), (417.97, 322.32, 3.55, 0.34), (304.86, 81.83, 12.38, 0.34), (521.79, 195.16, 4.88, 0.5), (602.34, 48.02, 2.58, 0.68), (604.88, 172.94, 6.71, 0.7), (176.47, 198.88, 5.39, 0.7), (143.77, 174.92, 10.06, 0.76), (538.94, 347.76, 3.84, 0.77)]\n"
     ]
    }
   ],
   "source": [
    "# 너비를 기준으로 오름차순 정렬\n",
    "sorted_bbox_dimensions = sorted(bbox_dimensions, key=lambda x: x[3])\n",
    "\n",
    "# 상위 10개의 원소 출력\n",
    "top_10_sorted = sorted_bbox_dimensions[:4]\n",
    "print(top_10_sorted)"
   ]
  },
  {
   "cell_type": "code",
   "execution_count": null,
   "id": "62ad731c-7591-4ee3-bf0f-fb0985596a41",
   "metadata": {},
   "outputs": [],
   "source": [
    "from pycocotools.coco import COCO\n",
    "from collections import Counter\n",
    "import matplotlib.pyplot as plt\n",
    "\n",
    "# COCO 어노테이션 파일 로드\n",
    "ann_file = '/home/hwkang/jupyter/root/dataset/COCO2017/annotations/instances_val2017.json'\n",
    "coco = COCO(ann_file)\n",
    "\n",
    "# 모든 어노테이션 ID 가져오기\n",
    "ann_ids = coco.getAnnIds()\n",
    "anns = coco.loadAnns(ann_ids)\n",
    "\n",
    "# 각 어노테이션의 카테고리 ID 수집\n",
    "category_ids = [ann['category_id'] for ann in anns]\n",
    "\n",
    "# 라벨의 빈도 계산\n",
    "label_distribution = dict(sorted(Counter(category_ids).items()))\n",
    "\n",
    "# 라벨 분포 시각화\n",
    "labels = list(label_distribution.keys())\n",
    "frequencies = list(label_distribution.values())"
   ]
  },
  {
   "cell_type": "code",
   "execution_count": 23,
   "id": "8367cc33-f907-44c6-aa28-d46d135732e0",
   "metadata": {},
   "outputs": [
    {
     "name": "stdout",
     "output_type": "stream",
     "text": [
      "Category ID: 80, Frequency: 9\n"
     ]
    }
   ],
   "source": [
    "for label, freq in label_distribution.items():\n",
    "    if freq <= 10:\n",
    "        print(f\"Category ID: {label}, Frequency: {freq}\")"
   ]
  },
  {
   "cell_type": "code",
   "execution_count": 25,
   "id": "fd9b152d-463c-43ad-895b-1dadb5e9f54e",
   "metadata": {},
   "outputs": [
    {
     "data": {
      "image/png": "[encoded data removed]",
      "text/plain": [
       "<Figure size 1200x600 with 1 Axes>"
      ]
     },
     "metadata": {},
     "output_type": "display_data"
    }
   ],
   "source": [
    "plt.figure(figsize=(12, 6))\n",
    "plt.bar(labels, frequencies)\n",
    "plt.xlabel('Category ID')\n",
    "plt.ylabel('Frequency')\n",
    "plt.title('COCO Dataset Label Distribution')\n",
    "plt.show()"
   ]
  }
 ],
 "metadata": {
  "kernelspec": {
   "display_name": "Python 3 (ipykernel)",
   "language": "python",
   "name": "python3"
  },
  "language_info": {
   "codemirror_mode": {
    "name": "ipython",
    "version": 3
   },
   "file_extension": ".py",
   "mimetype": "text/x-python",
   "name": "python",
   "nbconvert_exporter": "python",
   "pygments_lexer": "ipython3",
   "version": "3.10.12"
  }
 },
 "nbformat": 4,
 "nbformat_minor": 5
}
